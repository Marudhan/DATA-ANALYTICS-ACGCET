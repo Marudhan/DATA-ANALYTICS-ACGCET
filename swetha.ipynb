{
  "nbformat": 4,
  "nbformat_minor": 0,
  "metadata": {
    "colab": {
      "provenance": []
    },
    "kernelspec": {
      "name": "python3",
      "display_name": "Python 3"
    },
    "language_info": {
      "name": "python"
    }
  },
  "cells": [
    {
      "cell_type": "code",
      "execution_count": 2,
      "metadata": {
        "colab": {
          "base_uri": "https://localhost:8080/"
        },
        "id": "Sh8QywPAawaO",
        "outputId": "5523d5a8-c797-40c4-9afd-963c51f1cd01"
      },
      "outputs": [
        {
          "output_type": "stream",
          "name": "stdout",
          "text": [
            "12\n"
          ]
        }
      ],
      "source": [
        "a=5\n",
        "b=7\n",
        "print(a+b)"
      ]
    },
    {
      "cell_type": "code",
      "source": [
        "a=8\n",
        "b=15\n",
        "print(a*b)"
      ],
      "metadata": {
        "colab": {
          "base_uri": "https://localhost:8080/"
        },
        "id": "tMun76aXbyRK",
        "outputId": "15a61a9e-6c60-425f-ba1c-26fbd353f803"
      },
      "execution_count": 3,
      "outputs": [
        {
          "output_type": "stream",
          "name": "stdout",
          "text": [
            "120\n"
          ]
        }
      ]
    },
    {
      "cell_type": "code",
      "source": [
        "a=56\n",
        "b=4\n",
        "print(a/b)"
      ],
      "metadata": {
        "colab": {
          "base_uri": "https://localhost:8080/"
        },
        "id": "LYpSiL7Wb_Oh",
        "outputId": "f245f7a3-b5a4-48cd-85a7-1e59ae7d4039"
      },
      "execution_count": 4,
      "outputs": [
        {
          "output_type": "stream",
          "name": "stdout",
          "text": [
            "14.0\n"
          ]
        }
      ]
    }
  ]
}