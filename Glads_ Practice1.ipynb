{
 "cells": [
  {
   "cell_type": "markdown",
   "id": "f6dc7ede-3677-47b9-a022-50a39cc60082",
   "metadata": {},
   "source": [
    "# Python Beginning:"
   ]
  },
  {
   "cell_type": "markdown",
   "id": "ecebbc6f-03e9-41fe-ae7e-227645be03fa",
   "metadata": {},
   "source": [
    "# Arithmetic Operations "
   ]
  },
  {
   "cell_type": "markdown",
   "id": "91123707-e08b-4f8d-a6b8-333bff25e45a",
   "metadata": {},
   "source": [
    "# Addition (+)\n"
   ]
  },
  {
   "cell_type": "code",
   "execution_count": 1,
   "id": "7f1e907f-0270-4c95-bb41-512c9bc34802",
   "metadata": {},
   "outputs": [
    {
     "name": "stdout",
     "output_type": "stream",
     "text": [
      "12\n"
     ]
    }
   ],
   "source": [
    "a,b=3,9\n",
    "print(a+b)"
   ]
  },
  {
   "cell_type": "markdown",
   "id": "209c3c8c-1aa1-4765-b74a-c016437c6d70",
   "metadata": {},
   "source": [
    "# Subtraction (-)"
   ]
  },
  {
   "cell_type": "code",
   "execution_count": 2,
   "id": "3b048c7a-937e-4615-b02f-0caf6ce2c7b6",
   "metadata": {},
   "outputs": [
    {
     "name": "stdout",
     "output_type": "stream",
     "text": [
      "60\n"
     ]
    }
   ],
   "source": [
    "can,yel=29,89\n",
    "print(yel-can)"
   ]
  },
  {
   "cell_type": "markdown",
   "id": "fcc34432-b611-46af-975c-01c06686c85f",
   "metadata": {},
   "source": [
    "# Multiplication(*)"
   ]
  },
  {
   "cell_type": "code",
   "execution_count": 3,
   "id": "79aadaf9-9ab0-4450-8bb2-5f29b6617642",
   "metadata": {},
   "outputs": [
    {
     "name": "stdout",
     "output_type": "stream",
     "text": [
      "9260784\n"
     ]
    }
   ],
   "source": [
    "yes,yup=10088,918\n",
    "print(yes*yup)"
   ]
  },
  {
   "cell_type": "code",
   "execution_count": 4,
   "id": "afba81a1-d269-41b7-b81d-5fc9efe35eda",
   "metadata": {},
   "outputs": [
    {
     "name": "stdout",
     "output_type": "stream",
     "text": [
      "<class 'int'>\n"
     ]
    }
   ],
   "source": [
    "print(type(yes))"
   ]
  },
  {
   "cell_type": "code",
   "execution_count": 5,
   "id": "1f93ac83-3b70-4032-9a8a-7b72be299189",
   "metadata": {},
   "outputs": [
    {
     "name": "stdout",
     "output_type": "stream",
     "text": [
      "<class 'str'>\n"
     ]
    }
   ],
   "source": [
    "print(type(_))"
   ]
  },
  {
   "cell_type": "markdown",
   "id": "6136a5a3-1bb6-4a60-a875-3b549675a74d",
   "metadata": {},
   "source": [
    "# Division (/)"
   ]
  },
  {
   "cell_type": "code",
   "execution_count": 8,
   "id": "e5e37609-f617-46c9-94cb-7d6bfd3eecfb",
   "metadata": {},
   "outputs": [
    {
     "name": "stdout",
     "output_type": "stream",
     "text": [
      "1232.0\n"
     ]
    }
   ],
   "source": [
    "ques,quiz,bux=176,63,9\n",
    "print((ques*quiz)/bux)"
   ]
  },
  {
   "cell_type": "markdown",
   "id": "c52df7dc-adab-411a-93f1-fcf1a43f4003",
   "metadata": {},
   "source": [
    "# Exponentiation (**)"
   ]
  },
  {
   "cell_type": "code",
   "execution_count": 9,
   "id": "7518ec1c-7784-418b-b21f-7bde3c95c80f",
   "metadata": {},
   "outputs": [
    {
     "name": "stdout",
     "output_type": "stream",
     "text": [
      "2932905515653720470446517354790867011200695011892590219884975377166544996804405376294052437347131284505169542551280905514064599663426221899776\n"
     ]
    }
   ],
   "source": [
    "print(ques**quiz)"
   ]
  },
  {
   "cell_type": "markdown",
   "id": "7e1f4081-f034-44e2-be78-9fc443498688",
   "metadata": {},
   "source": [
    "# Floor Division (//)"
   ]
  },
  {
   "cell_type": "code",
   "execution_count": 11,
   "id": "fe373245-6945-4ee0-817b-f7f989a8387b",
   "metadata": {},
   "outputs": [
    {
     "name": "stdout",
     "output_type": "stream",
     "text": [
      "2.727272727272727\n",
      "2\n"
     ]
    }
   ],
   "source": [
    "a=90\n",
    "b=33\n",
    "print(a/b)\n",
    "print(a//b)"
   ]
  },
  {
   "cell_type": "code",
   "execution_count": 12,
   "id": "324306d3-1450-48c9-bd6a-633fe18f9df3",
   "metadata": {},
   "outputs": [
    {
     "name": "stdout",
     "output_type": "stream",
     "text": [
      "8\n"
     ]
    }
   ],
   "source": [
    "th,huf=78,9\n",
    "print(th//huf)"
   ]
  },
  {
   "cell_type": "markdown",
   "id": "3e13604c-60ec-41aa-a256-956bc527cccf",
   "metadata": {},
   "source": [
    "# Modulus(%)"
   ]
  },
  {
   "cell_type": "code",
   "execution_count": 13,
   "id": "0ade4c0b-f0c6-4206-a140-ed2c772edbf2",
   "metadata": {},
   "outputs": [
    {
     "name": "stdout",
     "output_type": "stream",
     "text": [
      "2\n"
     ]
    }
   ],
   "source": [
    "t,i=98,3\n",
    "print(t%i)"
   ]
  },
  {
   "cell_type": "markdown",
   "id": "0ef4a3b4-7119-46b6-842f-899c1f50a458",
   "metadata": {},
   "source": [
    "# Assignment Operators"
   ]
  },
  {
   "cell_type": "markdown",
   "id": "f6f2a2b4-ccb9-4b35-8c86-f37717bb8c48",
   "metadata": {},
   "source": [
    "# = "
   ]
  },
  {
   "cell_type": "code",
   "execution_count": 14,
   "id": "4f34b113-bc20-48ca-9d98-a7253f056baa",
   "metadata": {},
   "outputs": [
    {
     "name": "stdout",
     "output_type": "stream",
     "text": [
      "8\n"
     ]
    }
   ],
   "source": [
    "x=8\n",
    "print(x)"
   ]
  },
  {
   "cell_type": "code",
   "execution_count": 15,
   "id": "01baa039-6714-4171-8bff-b7cad6022f61",
   "metadata": {},
   "outputs": [
    {
     "data": {
      "text/plain": [
       "8"
      ]
     },
     "execution_count": 15,
     "metadata": {},
     "output_type": "execute_result"
    }
   ],
   "source": [
    "x"
   ]
  },
  {
   "cell_type": "code",
   "execution_count": 16,
   "id": "9dd8ab63-bf11-46a4-86ad-1b45895bea43",
   "metadata": {},
   "outputs": [
    {
     "data": {
      "text/plain": [
       "7890"
      ]
     },
     "execution_count": 16,
     "metadata": {},
     "output_type": "execute_result"
    }
   ],
   "source": [
    "level=7890\n",
    "level"
   ]
  },
  {
   "cell_type": "markdown",
   "id": "f695c209-e628-452b-af68-b3bf2630628c",
   "metadata": {},
   "source": [
    "# +="
   ]
  },
  {
   "cell_type": "code",
   "execution_count": 26,
   "id": "f5667b55-e8c1-41b3-ba3f-6e17889141aa",
   "metadata": {},
   "outputs": [
    {
     "name": "stdout",
     "output_type": "stream",
     "text": [
      "14\n"
     ]
    }
   ],
   "source": [
    "a=6\n",
    "a+=8\n",
    "print(a)"
   ]
  },
  {
   "cell_type": "code",
   "execution_count": 27,
   "id": "826b3e81-8a6b-41e6-8ad5-3b9cff441863",
   "metadata": {},
   "outputs": [
    {
     "name": "stdout",
     "output_type": "stream",
     "text": [
      "756\n"
     ]
    }
   ],
   "source": [
    "left=78\n",
    "left+=678\n",
    "print(left)"
   ]
  },
  {
   "cell_type": "markdown",
   "id": "8a81a4f6-ce77-42b3-84f1-5075b009ba49",
   "metadata": {},
   "source": [
    "# -="
   ]
  },
  {
   "cell_type": "code",
   "execution_count": 29,
   "id": "5db92714-fce5-44c2-95b0-3be468937298",
   "metadata": {},
   "outputs": [
    {
     "name": "stdout",
     "output_type": "stream",
     "text": [
      "-2022\n"
     ]
    }
   ],
   "source": [
    "tup=3657\n",
    "tup-=5679\n",
    "print(tup)"
   ]
  },
  {
   "cell_type": "code",
   "execution_count": 30,
   "id": "f75a704a-18d9-4e05-8d36-1a484b57a7c0",
   "metadata": {},
   "outputs": [
    {
     "name": "stdout",
     "output_type": "stream",
     "text": [
      "-2700\n"
     ]
    }
   ],
   "source": [
    "tup-=678\n",
    "print(tup)"
   ]
  },
  {
   "cell_type": "code",
   "execution_count": 31,
   "id": "45266c4b-e143-4847-930f-900bdac8fc55",
   "metadata": {},
   "outputs": [
    {
     "name": "stdout",
     "output_type": "stream",
     "text": [
      "100\n"
     ]
    }
   ],
   "source": [
    "pol=123\n",
    "pol-=23\n",
    "print(pol)"
   ]
  },
  {
   "cell_type": "markdown",
   "id": "8fe6e31c-9846-4014-abde-d4b7fc9de2e7",
   "metadata": {},
   "source": [
    "# *="
   ]
  },
  {
   "cell_type": "code",
   "execution_count": 32,
   "id": "6bbfc737-fe03-4266-8e48-fec93b327f17",
   "metadata": {},
   "outputs": [
    {
     "name": "stdout",
     "output_type": "stream",
     "text": [
      "6700\n"
     ]
    }
   ],
   "source": [
    "pol*=67\n",
    "print(pol)"
   ]
  },
  {
   "cell_type": "markdown",
   "id": "64019d72-ce5f-4274-9a0f-1159dee3eb23",
   "metadata": {},
   "source": [
    "# /="
   ]
  },
  {
   "cell_type": "code",
   "execution_count": 33,
   "id": "30b9e634-9e43-400a-afb3-0ae6b662b567",
   "metadata": {},
   "outputs": [
    {
     "name": "stdout",
     "output_type": "stream",
     "text": [
      "67.0\n"
     ]
    }
   ],
   "source": [
    "pol/=100\n",
    "print(pol)"
   ]
  },
  {
   "cell_type": "code",
   "execution_count": 34,
   "id": "21f97211-966e-4e02-8f97-fbe03cfa020f",
   "metadata": {},
   "outputs": [
    {
     "name": "stdout",
     "output_type": "stream",
     "text": [
      "5.428571428571429\n"
     ]
    }
   ],
   "source": [
    "pol=380\n",
    "pol/=70\n",
    "print(pol)"
   ]
  },
  {
   "cell_type": "markdown",
   "id": "3369f994-dff5-4d81-9acd-6b8f369364f0",
   "metadata": {},
   "source": [
    "# //="
   ]
  },
  {
   "cell_type": "code",
   "execution_count": 36,
   "id": "b4b2af21-10cc-4f91-a172-d3db7af84020",
   "metadata": {},
   "outputs": [
    {
     "name": "stdout",
     "output_type": "stream",
     "text": [
      "0.0\n"
     ]
    }
   ],
   "source": [
    "pol//=60\n",
    "print(pol)"
   ]
  },
  {
   "cell_type": "code",
   "execution_count": 40,
   "id": "944c20e4-f25a-4fd7-8845-ad0779c1677f",
   "metadata": {},
   "outputs": [
    {
     "name": "stdout",
     "output_type": "stream",
     "text": [
      "9\n"
     ]
    }
   ],
   "source": [
    "ino=890\n",
    "ino//=90\n",
    "print(ino)"
   ]
  },
  {
   "cell_type": "code",
   "execution_count": 41,
   "id": "57c531b1-e8ed-4572-9d92-4caf453186b6",
   "metadata": {},
   "outputs": [
    {
     "name": "stdout",
     "output_type": "stream",
     "text": [
      "2\n"
     ]
    }
   ],
   "source": [
    "ino//=4\n",
    "print(ino)"
   ]
  },
  {
   "cell_type": "markdown",
   "id": "ad8ff20a-0c94-4faf-816c-dc055b11f2bd",
   "metadata": {},
   "source": [
    "# %="
   ]
  },
  {
   "cell_type": "code",
   "execution_count": 42,
   "id": "0e41ed94-03d2-4918-b2a9-bf7d1b25b688",
   "metadata": {},
   "outputs": [
    {
     "name": "stdout",
     "output_type": "stream",
     "text": [
      "2\n"
     ]
    }
   ],
   "source": [
    "ino%=90\n",
    "print(ino)"
   ]
  },
  {
   "cell_type": "code",
   "execution_count": 43,
   "id": "66e77e36-b3bf-4ac9-9cae-be096fc20c62",
   "metadata": {},
   "outputs": [
    {
     "name": "stdout",
     "output_type": "stream",
     "text": [
      "2\n"
     ]
    }
   ],
   "source": [
    "ino%=3\n",
    "print(ino)"
   ]
  },
  {
   "cell_type": "code",
   "execution_count": 44,
   "id": "0867b7e2-d25a-493d-a867-1378e2b5f76c",
   "metadata": {},
   "outputs": [
    {
     "name": "stdout",
     "output_type": "stream",
     "text": [
      "2\n"
     ]
    }
   ],
   "source": [
    "bih=800\n",
    "bih%=7\n",
    "print(bih)"
   ]
  },
  {
   "cell_type": "code",
   "execution_count": 48,
   "id": "80720e62-6724-49a8-bfa2-a3f5f5d9dd51",
   "metadata": {},
   "outputs": [
    {
     "name": "stdout",
     "output_type": "stream",
     "text": [
      "1\n"
     ]
    }
   ],
   "source": [
    "ty=680\n",
    "ty%=7\n",
    "print(ty)"
   ]
  },
  {
   "cell_type": "markdown",
   "id": "9df13132-8e45-486e-8052-11ef2393f556",
   "metadata": {},
   "source": [
    "# Comparision Operators"
   ]
  },
  {
   "cell_type": "markdown",
   "id": "b4b4da48-8aa0-4e9f-a0d2-aa134c8d485b",
   "metadata": {},
   "source": [
    "# =="
   ]
  },
  {
   "cell_type": "code",
   "execution_count": 49,
   "id": "578f96d7-47f2-47d4-89ca-42dc7bfbbed2",
   "metadata": {},
   "outputs": [
    {
     "name": "stdout",
     "output_type": "stream",
     "text": [
      "False\n"
     ]
    }
   ],
   "source": [
    "a,b=5,7\n",
    "print(a==b)"
   ]
  },
  {
   "cell_type": "code",
   "execution_count": 50,
   "id": "3ec8d01b-577f-492d-84f1-151459ecd69b",
   "metadata": {},
   "outputs": [
    {
     "name": "stdout",
     "output_type": "stream",
     "text": [
      "True\n"
     ]
    }
   ],
   "source": [
    "a=6\n",
    "b=6\n",
    "print(b==a)"
   ]
  },
  {
   "cell_type": "markdown",
   "id": "d65c9d4d-c26a-4c2f-b764-26238e70fc37",
   "metadata": {},
   "source": [
    "# !="
   ]
  },
  {
   "cell_type": "code",
   "execution_count": 51,
   "id": "86907001-7356-4349-9354-2ee50638cd9d",
   "metadata": {},
   "outputs": [
    {
     "name": "stdout",
     "output_type": "stream",
     "text": [
      "False\n"
     ]
    }
   ],
   "source": [
    "print(a!=b)"
   ]
  },
  {
   "cell_type": "code",
   "execution_count": 52,
   "id": "b9576cbd-6699-41fc-80f6-ef9e1df267b5",
   "metadata": {},
   "outputs": [
    {
     "name": "stdout",
     "output_type": "stream",
     "text": [
      "False\n"
     ]
    }
   ],
   "source": [
    "ai,eo=9,10\n",
    "c=(ai==eo)\n",
    "print(c)"
   ]
  },
  {
   "cell_type": "markdown",
   "id": "bb388182-d63c-4684-9990-6a398300fa7c",
   "metadata": {},
   "source": [
    "# <"
   ]
  },
  {
   "cell_type": "code",
   "execution_count": 53,
   "id": "466f8573-80d4-45a6-899c-d3b1c5d525fd",
   "metadata": {},
   "outputs": [
    {
     "data": {
      "text/plain": [
       "True"
      ]
     },
     "execution_count": 53,
     "metadata": {},
     "output_type": "execute_result"
    }
   ],
   "source": [
    "ai<eo"
   ]
  },
  {
   "cell_type": "markdown",
   "id": "2736aca5-e2da-4a4c-8c7c-2a91dc50fa7c",
   "metadata": {},
   "source": [
    "# >"
   ]
  },
  {
   "cell_type": "code",
   "execution_count": 54,
   "id": "0da14f94-f214-4178-ace4-f4c2f08170b7",
   "metadata": {},
   "outputs": [
    {
     "data": {
      "text/plain": [
       "False"
      ]
     },
     "execution_count": 54,
     "metadata": {},
     "output_type": "execute_result"
    }
   ],
   "source": [
    "ai>eo"
   ]
  },
  {
   "cell_type": "markdown",
   "id": "cffd328d-403e-4f5f-a7de-02366cc5ea35",
   "metadata": {},
   "source": [
    "# <="
   ]
  },
  {
   "cell_type": "code",
   "execution_count": 55,
   "id": "7b806b0d-291d-4a92-bb08-2786357a5755",
   "metadata": {},
   "outputs": [
    {
     "name": "stdout",
     "output_type": "stream",
     "text": [
      "True\n"
     ]
    }
   ],
   "source": [
    "q=9.0\n",
    "w=9\n",
    "print(q<=w)"
   ]
  },
  {
   "cell_type": "markdown",
   "id": "c04f8ed6-b293-4c50-8295-b3a2d332d34e",
   "metadata": {},
   "source": [
    "# >="
   ]
  },
  {
   "cell_type": "code",
   "execution_count": 56,
   "id": "1e52a8b0-13e4-4103-a1c6-4c9b29335fee",
   "metadata": {},
   "outputs": [
    {
     "name": "stdout",
     "output_type": "stream",
     "text": [
      "True\n"
     ]
    }
   ],
   "source": [
    "print(q>=w)"
   ]
  },
  {
   "cell_type": "markdown",
   "id": "7f30a904-68cc-4d0a-a555-5fc9f3a27a80",
   "metadata": {},
   "source": [
    "# Boolean Operators"
   ]
  },
  {
   "cell_type": "code",
   "execution_count": 64,
   "id": "279406d4-6f09-42e4-a824-bd8d135cecd3",
   "metadata": {},
   "outputs": [
    {
     "data": {
      "text/plain": [
       "False"
      ]
     },
     "execution_count": 64,
     "metadata": {},
     "output_type": "execute_result"
    }
   ],
   "source": [
    "a==b"
   ]
  },
  {
   "cell_type": "code",
   "execution_count": 65,
   "id": "b8a74799-1437-470d-a9f7-b97b166bbc41",
   "metadata": {},
   "outputs": [
    {
     "data": {
      "text/plain": [
       "False"
      ]
     },
     "execution_count": 65,
     "metadata": {},
     "output_type": "execute_result"
    }
   ],
   "source": [
    "a==b and a<b"
   ]
  },
  {
   "cell_type": "code",
   "execution_count": 66,
   "id": "7cd81079-5af5-4f43-9a0e-ec1ffaf2a9b2",
   "metadata": {},
   "outputs": [
    {
     "data": {
      "text/plain": [
       "True"
      ]
     },
     "execution_count": 66,
     "metadata": {},
     "output_type": "execute_result"
    }
   ],
   "source": [
    "a==b or a<b"
   ]
  },
  {
   "cell_type": "code",
   "execution_count": 68,
   "id": "d70424d6-2b9d-42b4-a3e5-159f739f4aad",
   "metadata": {},
   "outputs": [
    {
     "data": {
      "text/plain": [
       "True"
      ]
     },
     "execution_count": 68,
     "metadata": {},
     "output_type": "execute_result"
    }
   ],
   "source": [
    "a==b or a<b and a<b"
   ]
  },
  {
   "cell_type": "code",
   "execution_count": 69,
   "id": "830eaab8-c9a3-45c2-bd5b-8f93433098c0",
   "metadata": {},
   "outputs": [
    {
     "data": {
      "text/plain": [
       "True"
      ]
     },
     "execution_count": 69,
     "metadata": {},
     "output_type": "execute_result"
    }
   ],
   "source": [
    "not a==b"
   ]
  },
  {
   "cell_type": "code",
   "execution_count": 76,
   "id": "278136d4-4e8c-4a44-b2c4-269fc1380eb5",
   "metadata": {},
   "outputs": [
    {
     "data": {
      "text/plain": [
       "False"
      ]
     },
     "execution_count": 76,
     "metadata": {},
     "output_type": "execute_result"
    }
   ],
   "source": [
    "(not a<b)"
   ]
  },
  {
   "cell_type": "code",
   "execution_count": 78,
   "id": "b5497f63-7a8a-491e-a33a-e2217c792406",
   "metadata": {},
   "outputs": [
    {
     "data": {
      "text/plain": [
       "True"
      ]
     },
     "execution_count": 78,
     "metadata": {},
     "output_type": "execute_result"
    }
   ],
   "source": [
    "((2!=3)and True) or (False and True)"
   ]
  },
  {
   "cell_type": "code",
   "execution_count": 80,
   "id": "1419a64f-d23b-4b4b-bf01-bc3df13a8b7b",
   "metadata": {},
   "outputs": [
    {
     "data": {
      "text/plain": [
       "bool"
      ]
     },
     "execution_count": 80,
     "metadata": {},
     "output_type": "execute_result"
    }
   ],
   "source": [
    "type(a<b)"
   ]
  },
  {
   "cell_type": "code",
   "execution_count": 81,
   "id": "1d95498f-a80b-4bc9-b862-a6211d995ea2",
   "metadata": {},
   "outputs": [
    {
     "data": {
      "text/plain": [
       "False"
      ]
     },
     "execution_count": 81,
     "metadata": {},
     "output_type": "execute_result"
    }
   ],
   "source": [
    "print"
   ]
  }
 ],
 "metadata": {
  "kernelspec": {
   "display_name": "Python 3 (ipykernel)",
   "language": "python",
   "name": "python3"
  },
  "language_info": {
   "codemirror_mode": {
    "name": "ipython",
    "version": 3
   },
   "file_extension": ".py",
   "mimetype": "text/x-python",
   "name": "python",
   "nbconvert_exporter": "python",
   "pygments_lexer": "ipython3",
   "version": "3.12.0"
  }
 },
 "nbformat": 4,
 "nbformat_minor": 5
}
